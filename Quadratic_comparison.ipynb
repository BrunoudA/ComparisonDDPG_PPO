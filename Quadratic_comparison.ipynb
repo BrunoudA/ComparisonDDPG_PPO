{
 "cells": [
  {
   "cell_type": "code",
   "execution_count": 222,
   "id": "f853ae82",
   "metadata": {},
   "outputs": [],
   "source": [
    "from qpsolvers import solve_qp\n",
    "import numpy as np\n",
    "import time\n",
    "import matplotlib.pyplot as plt"
   ]
  },
  {
   "cell_type": "code",
   "execution_count": 290,
   "id": "13f4972d",
   "metadata": {},
   "outputs": [],
   "source": [
    "def H_funct(n):\n",
    "    # H = np.zeros((3*n,3*n))\n",
    "    H = np.diag([1e-2]*(3*n))\n",
    "    for i in range(n):\n",
    "        H[i*3+1,i*3+1] = 1\n",
    "    return H\n",
    "\n",
    "def Q_funct(n,vd):\n",
    "    Q = np.zeros((3*n,))\n",
    "    for i in range(n):\n",
    "        Q[i*3+1]=-vd\n",
    "    return Q\n",
    "\n",
    "def A_funct(n,dt):\n",
    "    A = np.zeros((2*n,3*n))\n",
    "    for i in range(0,2):\n",
    "        A[i,i]=1\n",
    "        A[i+2*(n-1),i+2*(n-1)+(n-1)]=0\n",
    "    for i in range(2,2*n):\n",
    "        j=i+(i//2)\n",
    "        print(j)\n",
    "        if(i<2*(n-1)):\n",
    "            A[i,j]=-1\n",
    "        A[i,j-3]=1\n",
    "        A[i,j-2]=dt\n",
    "        if(i%2==0): \n",
    "            A[i,j-1]=dt**2 /2\n",
    "    return A\n",
    "\n",
    "def A2_funct(n,dt):\n",
    "    A = np.zeros((3*n,2*n))\n",
    "    for i in range(0,2):\n",
    "        A[i,i]=1\n",
    "    for i in range(0,2):\n",
    "        A[i+2*(n-1)+(n-1),i+2*(n-1)]=0\n",
    "    for i in range(2,2*n):\n",
    "        j=i+(i//2)\n",
    "        if(i<2*(n-1)):\n",
    "            A[j,i]=-1\n",
    "        A[j-3,i]=1\n",
    "        A[j-2,i]=dt\n",
    "        if(i%2==0): \n",
    "            A[j-1,i]=dt**2 /2\n",
    "    return A\n",
    "\n",
    "def B_funct(n,xi,xf):\n",
    "    B = np.zeros((2*n,))\n",
    "    B[0:2]=xi\n",
    "    B[2*(n-1):]=xf\n",
    "    return B\n",
    "\n",
    "def B2_funct(n,xi,xf):\n",
    "    B = np.zeros((2*n,))\n",
    "    B[0]=xi[0]\n",
    "    B[1]=xi[1]\n",
    "    B[2*(n-1)]=xf[0]\n",
    "    B[2*(n-1)+1]=xf[1]\n",
    "    print(xf[1])\n",
    "    return B\n",
    "\n",
    "def bounds(n,bds):\n",
    "    bounds= np.zeros((3*n))\n",
    "    for i in range(n):\n",
    "        bounds[i*3:i*3+3]=bds\n",
    "    return bounds\n"
   ]
  },
  {
   "cell_type": "code",
   "execution_count": 301,
   "id": "3a7449fb",
   "metadata": {},
   "outputs": [
    {
     "name": "stdout",
     "output_type": "stream",
     "text": [
      "3\n",
      "4\n",
      "6\n",
      "7\n",
      "9\n",
      "10\n",
      "12\n",
      "13\n",
      "15\n",
      "16\n",
      "18\n",
      "19\n",
      "21\n",
      "22\n",
      "24\n",
      "25\n",
      "27\n",
      "28\n",
      "30\n",
      "31\n",
      "33\n",
      "34\n",
      "36\n",
      "37\n",
      "39\n",
      "40\n",
      "42\n",
      "43\n",
      "45\n",
      "46\n",
      "48\n",
      "49\n",
      "51\n",
      "52\n",
      "54\n",
      "55\n",
      "57\n",
      "58\n",
      "5.0\n"
     ]
    }
   ],
   "source": [
    "time_size=6.0 #time before pedestrian finish the crossing\n",
    "dt=0.3\n",
    "n=int(time_size/dt)\n",
    "H=H_funct(n)\n",
    "Q=Q_funct(n,6.0)\n",
    "A=A_funct(n,0.3)\n",
    "B=B2_funct(n,[-20.0,6.0],[0.5,5.0])\n",
    "lb=bounds(n,[-40.0,-8.0,-4.0])\n",
    "ub=bounds(n,[40.0,15.0,2.0])\n",
    "x = solve_qp(H, Q, A=A, b=B, lb=lb, ub=ub)\n",
    "#x"
   ]
  },
  {
   "cell_type": "code",
   "execution_count": 302,
   "id": "88c8f9d2",
   "metadata": {},
   "outputs": [
    {
     "data": {
      "text/plain": [
       "array([-20. ,   6. ,   0. ,   0. ,   0. ,   0. ,   0. ,   0. ,   0. ,\n",
       "         0. ,   0. ,   0. ,   0. ,   0. ,   0. ,   0. ,   0. ,   0. ,\n",
       "         0. ,   0. ,   0. ,   0. ,   0. ,   0. ,   0. ,   0. ,   0. ,\n",
       "         0. ,   0. ,   0. ,   0. ,   0. ,   0. ,   0. ,   0. ,   0. ,\n",
       "         0. ,   0. ,   0.5,   5. ])"
      ]
     },
     "execution_count": 302,
     "metadata": {},
     "output_type": "execute_result"
    }
   ],
   "source": [
    "B"
   ]
  },
  {
   "cell_type": "code",
   "execution_count": 296,
   "id": "ccc45fe4",
   "metadata": {},
   "outputs": [
    {
     "data": {
      "text/plain": [
       "(40, 60)"
      ]
     },
     "execution_count": 296,
     "metadata": {},
     "output_type": "execute_result"
    }
   ],
   "source": [
    "A.shape"
   ]
  },
  {
   "cell_type": "code",
   "execution_count": 288,
   "id": "fb84622c",
   "metadata": {},
   "outputs": [
    {
     "data": {
      "text/plain": [
       "(2, 60)"
      ]
     },
     "execution_count": 288,
     "metadata": {},
     "output_type": "execute_result"
    }
   ],
   "source": [
    "A[n-2:n].shape"
   ]
  },
  {
   "cell_type": "code",
   "execution_count": 303,
   "id": "c888ee58",
   "metadata": {},
   "outputs": [
    {
     "data": {
      "text/plain": [
       "array([[0.   , 0.   , 0.   , 0.   , 0.   , 0.   , 0.   , 0.   , 0.   ,\n",
       "        0.   , 0.   , 0.   , 0.   , 0.   , 0.   , 0.   , 0.   , 0.   ,\n",
       "        0.   , 0.   , 0.   , 0.   , 0.   , 0.   , 0.   , 0.   , 0.   ,\n",
       "        0.   , 0.   , 0.   , 0.   , 0.   , 0.   , 0.   , 0.   , 0.   ,\n",
       "        0.   , 0.   , 0.   , 0.   , 0.   , 0.   , 0.   , 0.   , 0.   ,\n",
       "        0.   , 0.   , 0.   , 0.   , 0.   , 0.   , 0.   , 0.   , 0.   ,\n",
       "        1.   , 0.3  , 0.045, 0.   , 0.   , 0.   ],\n",
       "       [0.   , 0.   , 0.   , 0.   , 0.   , 0.   , 0.   , 0.   , 0.   ,\n",
       "        0.   , 0.   , 0.   , 0.   , 0.   , 0.   , 0.   , 0.   , 0.   ,\n",
       "        0.   , 0.   , 0.   , 0.   , 0.   , 0.   , 0.   , 0.   , 0.   ,\n",
       "        0.   , 0.   , 0.   , 0.   , 0.   , 0.   , 0.   , 0.   , 0.   ,\n",
       "        0.   , 0.   , 0.   , 0.   , 0.   , 0.   , 0.   , 0.   , 0.   ,\n",
       "        0.   , 0.   , 0.   , 0.   , 0.   , 0.   , 0.   , 0.   , 0.   ,\n",
       "        0.   , 1.   , 0.3  , 0.   , 0.   , 0.   ]])"
      ]
     },
     "execution_count": 303,
     "metadata": {},
     "output_type": "execute_result"
    }
   ],
   "source": [
    "A[2*n-2:2*n]"
   ]
  },
  {
   "cell_type": "code",
   "execution_count": 304,
   "id": "c516b5d7",
   "metadata": {},
   "outputs": [
    {
     "data": {
      "text/plain": [
       "array([[-20.        ,   6.        ,  -4.        ],\n",
       "       [-18.38      ,   4.8       ,  -3.75586768],\n",
       "       [-17.10901405,   3.6732397 ,  -0.49384013],\n",
       "       [-16.02926494,   3.52508766,  -0.18515121],\n",
       "       [-14.98007045,   3.46954229,  -0.14740313],\n",
       "       [-13.9458409 ,   3.42532135,  -0.13461716],\n",
       "       [-12.92430227,   3.38493621,  -0.12422919],\n",
       "       [-11.91441172,   3.34766745,  -0.11416185],\n",
       "       [-10.91524877,   3.31341889,  -0.10421642],\n",
       "       [ -9.92591284,   3.28215397,  -0.09436648],\n",
       "       [ -8.94551314,   3.25384402,  -0.08460067],\n",
       "       [ -7.97316697,   3.22846382,  -0.0749003 ],\n",
       "       [ -7.00799833,   3.20599373,  -0.06515022],\n",
       "       [ -6.04913197,   3.18644867,  -0.05418123],\n",
       "       [ -5.09563553,   3.1701943 ,  -0.02932881],\n",
       "       [ -4.14589704,   3.16139565,   0.14743325],\n",
       "       [ -3.19084384,   3.20562563,   1.98124791],\n",
       "       [ -2.14      ,   3.8       ,   2.        ],\n",
       "       [ -0.91      ,   4.4       ,   2.        ],\n",
       "       [  0.        ,   6.        ,   0.        ]])"
      ]
     },
     "execution_count": 304,
     "metadata": {},
     "output_type": "execute_result"
    }
   ],
   "source": [
    "y=x.reshape(-1,3)\n",
    "y"
   ]
  },
  {
   "cell_type": "code",
   "execution_count": 305,
   "id": "a89a1914",
   "metadata": {
    "scrolled": true
   },
   "outputs": [
    {
     "data": {
      "text/plain": [
       "[<matplotlib.lines.Line2D at 0x2c4eafaccc8>]"
      ]
     },
     "execution_count": 305,
     "metadata": {},
     "output_type": "execute_result"
    },
    {
     "data": {
      "image/png": "[encoded data removed]",
      "text/plain": [
       "<Figure size 432x288 with 1 Axes>"
      ]
     },
     "metadata": {
      "needs_background": "light"
     },
     "output_type": "display_data"
    }
   ],
   "source": [
    "#plt.plot([i for i in range(n)],y[:,0])\n",
    "plt.plot([i for i in range(n)],y[:,1])"
   ]
  },
  {
   "cell_type": "code",
   "execution_count": null,
   "id": "5d078518",
   "metadata": {},
   "outputs": [],
   "source": []
  },
  {
   "cell_type": "code",
   "execution_count": null,
   "id": "b10c37f2",
   "metadata": {},
   "outputs": [],
   "source": []
  },
  {
   "cell_type": "code",
   "execution_count": 209,
   "id": "a5031feb",
   "metadata": {},
   "outputs": [
    {
     "data": {
      "text/plain": [
       "array([[ 1.   ,  0.   ,  0.   ,  0.   ,  0.   ,  0.   ,  0.   ,  0.   ,\n",
       "         0.   ],\n",
       "       [ 0.   ,  1.   ,  0.   ,  0.   ,  0.   ,  0.   ,  0.   ,  0.   ,\n",
       "         0.   ],\n",
       "       [ 1.   ,  0.3  ,  0.045, -1.   ,  0.   ,  0.   ,  0.   ,  0.   ,\n",
       "         0.   ],\n",
       "       [ 0.   ,  1.   ,  0.3  ,  0.   , -1.   ,  0.   ,  0.   ,  0.   ,\n",
       "         0.   ],\n",
       "       [ 0.   ,  0.   ,  0.   ,  1.   ,  0.3  ,  0.045,  1.   ,  0.   ,\n",
       "         0.   ],\n",
       "       [ 0.   ,  0.   ,  0.   ,  0.   ,  1.   ,  0.3  ,  0.   ,  1.   ,\n",
       "         0.   ]])"
      ]
     },
     "execution_count": 209,
     "metadata": {},
     "output_type": "execute_result"
    }
   ],
   "source": [
    "A"
   ]
  },
  {
   "cell_type": "code",
   "execution_count": 154,
   "id": "dff965c5",
   "metadata": {},
   "outputs": [],
   "source": [
    "x"
   ]
  },
  {
   "cell_type": "code",
   "execution_count": 111,
   "id": "dfa07df9",
   "metadata": {},
   "outputs": [
    {
     "name": "stdout",
     "output_type": "stream",
     "text": [
      "(60, 60)\n",
      "(60,)\n",
      "(40, 60)\n",
      "(40,)\n",
      "(60,)\n",
      "(60,)\n"
     ]
    }
   ],
   "source": [
    "print(H.shape)\n",
    "print(Q.shape)\n",
    "print(A.shape)\n",
    "print(B.shape)\n",
    "print(lb.shape)\n",
    "print(ub.shape)"
   ]
  },
  {
   "cell_type": "code",
   "execution_count": 43,
   "id": "242bd93c",
   "metadata": {},
   "outputs": [
    {
     "data": {
      "text/plain": [
       "array([3, 5, 3, 4])"
      ]
     },
     "execution_count": 43,
     "metadata": {},
     "output_type": "execute_result"
    }
   ],
   "source": [
    "a=np.array([2,2,3,4])\n",
    "a[0:2]=[3,5]\n",
    "a"
   ]
  },
  {
   "cell_type": "code",
   "execution_count": 41,
   "id": "ee6cf7b2",
   "metadata": {},
   "outputs": [
    {
     "data": {
      "text/plain": [
       "array([[0., 0., 0., 0., 0., 0., 0., 0., 0., 0., 0., 0.],\n",
       "       [0., 1., 0., 0., 0., 0., 0., 0., 0., 0., 0., 0.],\n",
       "       [0., 0., 0., 0., 0., 0., 0., 0., 0., 0., 0., 0.],\n",
       "       [0., 0., 0., 0., 0., 0., 0., 0., 0., 0., 0., 0.],\n",
       "       [0., 0., 0., 0., 1., 0., 0., 0., 0., 0., 0., 0.],\n",
       "       [0., 0., 0., 0., 0., 0., 0., 0., 0., 0., 0., 0.],\n",
       "       [0., 0., 0., 0., 0., 0., 0., 0., 0., 0., 0., 0.],\n",
       "       [0., 0., 0., 0., 0., 0., 0., 1., 0., 0., 0., 0.],\n",
       "       [0., 0., 0., 0., 0., 0., 0., 0., 0., 0., 0., 0.],\n",
       "       [0., 0., 0., 0., 0., 0., 0., 0., 0., 0., 0., 0.],\n",
       "       [0., 0., 0., 0., 0., 0., 0., 0., 0., 0., 1., 0.],\n",
       "       [0., 0., 0., 0., 0., 0., 0., 0., 0., 0., 0., 0.]])"
      ]
     },
     "execution_count": 41,
     "metadata": {},
     "output_type": "execute_result"
    }
   ],
   "source": [
    "H_funct(4)"
   ]
  },
  {
   "cell_type": "code",
   "execution_count": 23,
   "id": "56d1e916",
   "metadata": {},
   "outputs": [
    {
     "data": {
      "text/plain": [
       "array([[0., 1., 0.],\n",
       "       [0., 0., 0.]])"
      ]
     },
     "execution_count": 23,
     "metadata": {},
     "output_type": "execute_result"
    }
   ],
   "source": [
    "P = np.zeros((2,3))\n",
    "P[0,1]=1\n",
    "P"
   ]
  },
  {
   "cell_type": "code",
   "execution_count": 69,
   "id": "8f15e666",
   "metadata": {},
   "outputs": [],
   "source": [
    "size_state=6\n",
    "P = np.zeros((size_state,size_state))\n",
    "P[0,0] = 1e-2\n",
    "P[1,1] = 0.25\n",
    "P[2,2] = 1e-2\n",
    "P[3,3] = 1e-2\n",
    "P[4,4] = 1e-2\n",
    "P[5,5] = 1e-2\n",
    "q = np.array([0.,1.,1.,0.,0.,0.]).reshape((size_state,))\n",
    "dt = 0.3\n",
    "G = np.array([[1.,0.,0.,-1.,0.,0.],\n",
    "            [-1.,0.,0.,1.,0.,0.]])\n",
    "h = np.array([0.2,0.2]).reshape((2,))\n",
    "A = np.array([[dt,-1.,0.,0.,1.,0.],\n",
    "            [dt**2 /2,dt,-1.,0.,0.,1.],\n",
    "            [0.,0.,0.,1.,0.,0.],\n",
    "            [0.,0.,0.,0.,1.,0.],\n",
    "            [0.,0.,0.,0.,0.,1.]])\n",
    "prev_acc=-0.2\n",
    "prev_speed=10.\n",
    "prev_pos=-40.\n",
    "b = np.array([0.,0.,prev_acc,prev_speed,prev_pos]).reshape((5,))\n",
    "lb=np.array([-4.,0.,-50.,-4.,0.,-50.])\n",
    "ub=np.array([2.,50.,100.,2.,50.,100.])\n",
    "x = solve_qp(P, q, G, h, A, b, lb, ub)\n"
   ]
  },
  {
   "cell_type": "code",
   "execution_count": 70,
   "id": "2b18c279",
   "metadata": {},
   "outputs": [
    {
     "name": "stdout",
     "output_type": "stream",
     "text": [
      "QP solution: x = [ -0.4     9.88  -37.054  -0.2    10.    -40.   ]\n"
     ]
    }
   ],
   "source": [
    "\n",
    "x = solve_qp(P, q, G, h, A, b, lb, ub)\n",
    "print(\"QP solution: x = {}\".format(x))"
   ]
  },
  {
   "cell_type": "code",
   "execution_count": 44,
   "id": "bd892f1d",
   "metadata": {},
   "outputs": [
    {
     "name": "stdout",
     "output_type": "stream",
     "text": [
      "QP solution: x = [ 0.53333333 -0.33333333  0.8       ]\n"
     ]
    }
   ],
   "source": [
    "from numpy import array, dot\n",
    "from qpsolvers import solve_qp\n",
    "\n",
    "M = array([[1., 2., 0.], [-8., 3., 2.], [0., 1., 1.]])\n",
    "P = dot(M.T, M)  # this is a positive definite matrix\n",
    "q = dot(array([3., 2., 3.]), M).reshape((3,))\n",
    "G = array([[1., 2., 1.], [2., 0., 1.], [-1., 2., -1.]])\n",
    "h = array([3., 2., -2.]).reshape((3,))\n",
    "A = array([1., 1., 1.])\n",
    "b = array([1.])\n",
    "lb=np.array([-2.,-2.,-2.])\n",
    "ub=np.array([1.,1.,0.8])\n",
    "x = solve_qp(P, q, G, h, A, b, lb, ub)\n",
    "print(\"QP solution: x = {}\".format(x))"
   ]
  }
 ],
 "metadata": {
  "kernelspec": {
   "display_name": "Python 3 (ipykernel)",
   "language": "python",
   "name": "python3"
  },
  "language_info": {
   "codemirror_mode": {
    "name": "ipython",
    "version": 3
   },
   "file_extension": ".py",
   "mimetype": "text/x-python",
   "name": "python",
   "nbconvert_exporter": "python",
   "pygments_lexer": "ipython3",
   "version": "3.7.11"
  }
 },
 "nbformat": 4,
 "nbformat_minor": 5
}
