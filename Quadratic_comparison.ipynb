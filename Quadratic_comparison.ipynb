{
 "cells": [
  {
   "cell_type": "code",
   "execution_count": 27,
   "id": "f1761520",
   "metadata": {},
   "outputs": [],
   "source": [
    "from qpsolvers import solve_qp\n",
    "import numpy as np"
   ]
  },
  {
   "cell_type": "code",
   "execution_count": 28,
   "id": "8202233a",
   "metadata": {},
   "outputs": [],
   "source": [
    "size_state=6\n",
    "P = np.zeros((size_state,size_state))\n",
    "P[1,1] = 1/4\n",
    "q = np.array([0,1,1,0,0,0]).reshape((size_state,))\n",
    "dt = 0.3\n",
    "G = np.array([[1,0,0,-1,0,0],\n",
    "            [-1,0,0,1,0,0]])\n",
    "h = np.array([0.2,0.2]).reshape((2,))\n",
    "A = np.array([[dt,-1,0,0,1,0],\n",
    "            [dt**2 /2,dt,-1,0,0,1],\n",
    "            [0,0,0,1,0,0],\n",
    "            [0,0,0,0,1,0],\n",
    "            [0,0,0,0,0,1]])\n",
    "prev_acc=0.0\n",
    "prev_speed=10.0\n",
    "prev_pos=-20.0\n",
    "b = np.array([0.0,0.0,prev_acc,prev_speed,prev_pos]).reshape((5,))\n",
    "lb=np.array([-4.0,0.0,-50.0,-4.0,0.0,-50.0]).reshape((size_state,))\n",
    "ub=np.array([2.0,50.0,100.0,2.0,50.0,100.0]).reshape((size_state,))\n",
    "x = solve_qp(P, q, G, h, A, b, lb, ub)\n"
   ]
  },
  {
   "cell_type": "code",
   "execution_count": 30,
   "id": "11d8c9f3",
   "metadata": {},
   "outputs": [
    {
     "name": "stdout",
     "output_type": "stream",
     "text": [
      "QP solution: x = None\n"
     ]
    }
   ],
   "source": [
    "\n",
    "x = solve_qp(P, q, None, None, A, b)\n",
    "print(\"QP solution: x = {}\".format(x))"
   ]
  },
  {
   "cell_type": "code",
   "execution_count": 31,
   "id": "f4a399f3",
   "metadata": {},
   "outputs": [
    {
     "name": "stdout",
     "output_type": "stream",
     "text": [
      "QP solution: x = [ 0.30769231 -0.69230769  1.38461538]\n"
     ]
    }
   ],
   "source": [
    "from numpy import array, dot\n",
    "from qpsolvers import solve_qp\n",
    "\n",
    "M = array([[1., 2., 0.], [-8., 3., 2.], [0., 1., 1.]])\n",
    "P = dot(M.T, M)  # this is a positive definite matrix\n",
    "q = dot(array([3., 2., 3.]), M).reshape((3,))\n",
    "G = array([[1., 2., 1.], [2., 0., 1.], [-1., 2., -1.]])\n",
    "h = array([3., 2., -2.]).reshape((3,))\n",
    "A = array([1., 1., 1.])\n",
    "b = array([1.])\n",
    "\n",
    "x = solve_qp(P, q, G, h, A, b)\n",
    "print(\"QP solution: x = {}\".format(x))"
   ]
  }
 ],
 "metadata": {
  "kernelspec": {
   "display_name": "Python 3 (ipykernel)",
   "language": "python",
   "name": "python3"
  },
  "language_info": {
   "codemirror_mode": {
    "name": "ipython",
    "version": 3
   },
   "file_extension": ".py",
   "mimetype": "text/x-python",
   "name": "python",
   "nbconvert_exporter": "python",
   "pygments_lexer": "ipython3",
   "version": "3.7.11"
  }
 },
 "nbformat": 4,
 "nbformat_minor": 5
}
