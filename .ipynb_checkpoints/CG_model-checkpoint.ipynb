{
 "cells": [
  {
   "cell_type": "code",
   "execution_count": 1,
   "id": "3af85d2b",
   "metadata": {},
   "outputs": [],
   "source": [
    "#1) Import libraries\n",
    "import random\n",
    "import numpy as np \n",
    "import math\n",
    "import matplotlib.pyplot as plt"
   ]
  },
  {
   "cell_type": "code",
   "execution_count": 2,
   "id": "9a73e1e8",
   "metadata": {},
   "outputs": [],
   "source": [
    "#2) Function CG\n",
    "v_p=1.0 #pedestrian speed\n",
    "len_cross=5.0 #crosswalk length\n",
    "gamma=math.log10(len_cross/v_p) \n",
    "\n",
    "def CG_score_opti(genre,age):\n",
    "    \"\"\"\n",
    "        Compute CG of one pedestrian\n",
    "        :param genre: gender of the pesdestrian\n",
    "        :param age: age of the pesdestrian\n",
    "        :return: Critical Gap \n",
    "    \"\"\"\n",
    "    fem, child, midage, old, alpha, sigma = 0.0369, -0.0355, -0.0221, -0.1810, 0.09, 0.09\n",
    "    gamma = math.log10(len_cross/v_p)\n",
    "    log_val = alpha+gamma+fem*(genre == 1)+child*(age == 0)+midage*(age == 1)+old*(age == 2)\n",
    "    log_val = log_val + np.random.normal(loc=0.0, scale=sigma)\n",
    "    return math.pow(10, log_val)\n",
    "CG_childmen_opti=[CG_score_opti(0,0) for i in range(0,10000)]\n",
    "CG_midagemen_opti=[CG_score_opti(0,1) for i in range(0,10000)]\n",
    "CG_oldmen_opti=[CG_score_opti(0,2) for i in range(0,10000)]"
   ]
  },
  {
   "cell_type": "code",
   "execution_count": 4,
   "id": "cb8fa307",
   "metadata": {},
   "outputs": [
    {
     "data": {
      "text/plain": [
       "<Figure size 432x288 with 0 Axes>"
      ]
     },
     "metadata": {},
     "output_type": "display_data"
    }
   ],
   "source": [
    "nb_hist=50\n",
    "n, bin_edges,_=plt.hist([CG_midagemen_opti,CG_oldmen_opti], nb_hist)\n",
    "plt.clf()\n",
    "proba_old = n[1]/float(n[1].sum())\n",
    "proba_young = n[0]/float(n[0].sum())"
   ]
  },
  {
   "cell_type": "code",
   "execution_count": 5,
   "id": "409b972c",
   "metadata": {},
   "outputs": [
    {
     "data": {
      "image/png": "[encoded data removed]",
      "text/plain": [
       "<Figure size 432x288 with 1 Axes>"
      ]
     },
     "metadata": {
      "needs_background": "light"
     },
     "output_type": "display_data"
    }
   ],
   "source": [
    "#3) Plot\n",
    "plt.title(\"Probability Curve of the CG\")\n",
    "plt.ylabel(\"Probability\")\n",
    "plt.xlabel(\"GP (s)\")\n",
    "plt.step(bin_edges[0:nb_hist],proba_young,color=\"cornflowerblue\", label='midage')\n",
    "plt.step(bin_edges[0:nb_hist],proba_old,color=\"olivedrab\", label='elderly')\n",
    "plt.fill_between(bin_edges[0:nb_hist], proba_young, color='cornflowerblue', step=\"pre\", alpha=0.4)\n",
    "plt.fill_between(bin_edges[0:nb_hist], proba_old,color=\"olivedrab\", step=\"pre\", alpha=0.4)\n",
    "plt.vlines(len_cross/v_p,0,0.1, color=\"black\",linestyles = \"dashed\")\n",
    "plt.legend(prop={'size': 10})\n",
    "plt.savefig('PDF_results/proba-older-50bins.pdf')"
   ]
  }
 ],
 "metadata": {
  "kernelspec": {
   "display_name": "Python 3 (ipykernel)",
   "language": "python",
   "name": "python3"
  },
  "language_info": {
   "codemirror_mode": {
    "name": "ipython",
    "version": 3
   },
   "file_extension": ".py",
   "mimetype": "text/x-python",
   "name": "python",
   "nbconvert_exporter": "python",
   "pygments_lexer": "ipython3",
   "version": "3.7.11"
  }
 },
 "nbformat": 4,
 "nbformat_minor": 5
}
