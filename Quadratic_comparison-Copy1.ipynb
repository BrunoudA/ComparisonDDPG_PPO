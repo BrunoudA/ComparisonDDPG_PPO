{
 "cells": [
  {
   "cell_type": "code",
   "execution_count": 161,
   "id": "f853ae82",
   "metadata": {},
   "outputs": [],
   "source": [
    "#1) Import libraries\n",
    "from qpsolvers import solve_qp\n",
    "import time\n",
    "import gym\n",
    "import math\n",
    "import random\n",
    "import numpy as np\n",
    "import matplotlib\n",
    "import matplotlib.pyplot as plt\n",
    "import Environments\n",
    "import pandas as pd"
   ]
  },
  {
   "cell_type": "code",
   "execution_count": 162,
   "id": "13f4972d",
   "metadata": {},
   "outputs": [],
   "source": [
    "#2) Create functions for quadratic computing\n",
    "def H_funct(n):\n",
    "    # H = np.zeros((3*n,3*n))\n",
    "    H = np.diag([1e-3]*(3*n))\n",
    "    for i in range(n):\n",
    "        H[i*3+1,i*3+1] = 1\n",
    "    return H\n",
    "\n",
    "def Q_funct(n,vd):\n",
    "    Q = np.zeros((3*n,))\n",
    "    for i in range(n):\n",
    "        Q[i*3+1]=-vd\n",
    "    return Q\n",
    "\n",
    "def A2_funct(n,dt):\n",
    "    A = np.zeros((2*n+1,3*n))\n",
    "    for i in range(0,2):\n",
    "        A[i,i]=1\n",
    "        A[i+2*(n-1),i+2*(n-1)+(n-1)]=0\n",
    "    for i in range(2,2*n):\n",
    "        j=i+(i//2)\n",
    "        #if(i<2*(n-1)):\n",
    "        A[i,j]=-1\n",
    "        A[i,j-3]=1\n",
    "        A[i,j-2]=dt\n",
    "        if(i%2==0): \n",
    "            A[i,j-1]=dt**2 /2\n",
    "    for i in range(2*n,2*n+1):\n",
    "        j=i+(i//2)-3\n",
    "        A[i,j]=1\n",
    "    return A\n",
    "\n",
    "def A_funct(n,dt):\n",
    "    A = np.zeros((2*n+1,3*n))\n",
    "    for i in range(0,2):\n",
    "        A[i,i]=1\n",
    "        A[i+2*(n-1),i+2*(n-1)+(n-1)]=0\n",
    "    for i in range(2,2*n):\n",
    "        j=i+(i//2)\n",
    "        #if(i<2*(n-1)):\n",
    "        A[i,j]=-1\n",
    "        A[i,j-3]=1\n",
    "        A[i,j-2]=dt\n",
    "        if(i%2==0): \n",
    "            A[i,j-1]=dt**2 /2\n",
    "    for i in range(2*n,2*n+1):\n",
    "        j=i+(i//2)-3\n",
    "        A[i,j+1]=1\n",
    "    return A\n",
    "\n",
    "def B2_funct(n,xi,xf):\n",
    "    B = np.zeros((2*n+1,))\n",
    "    B[0]=xi[0]\n",
    "    B[1]=xi[1]\n",
    "    B[2*n]=xf[0]\n",
    "   # B[2*n+1]=xf[1]\n",
    "    return B\n",
    "\n",
    "def B_funct(n,xi,xf):\n",
    "    B = np.zeros((2*n+1,))\n",
    "    B[0]=xi[0]\n",
    "    B[1]=xi[1]\n",
    "    #B[2*n]=xf[0]\n",
    "    B[2*n]=xf[1]\n",
    "    return B\n",
    "\n",
    "def bounds(n,bds):\n",
    "    bounds= np.zeros((3*n))\n",
    "    for i in range(n):\n",
    "        bounds[i*3:i*3+3]=bds\n",
    "    return bounds\n"
   ]
  },
  {
   "cell_type": "code",
   "execution_count": 163,
   "id": "9b5e892e",
   "metadata": {},
   "outputs": [],
   "source": [
    "#3) Quadratic programming model\n",
    "class Model_QP():\n",
    "    \"\"\"\n",
    "        Class: select action\n",
    "        :param dt: time step\n",
    "        :param lb: lower bounds [position, speed, acceleration]\n",
    "        :param ub: upper bounds [position, speed, acceleration]\n",
    "    \"\"\"\n",
    "    def __init__(self, dt, lb, ub):\n",
    "        self.dt = dt\n",
    "        self.lb = lb\n",
    "        self.ub = ub\n",
    "        \n",
    "    def new_action_position(self, n, x_init, x_final):\n",
    "        \"\"\"\n",
    "        New action : \n",
    "        :param n: number of steps\n",
    "        :param x_init: initial position & speed\n",
    "        :param x_final: final position & speed\n",
    "        :return: [position, speed, acceleration]\n",
    "        \"\"\" \n",
    "        H=H_funct(n)\n",
    "        q=Q_funct(n,x_final[1])\n",
    "        A=A2_funct(n,self.dt)\n",
    "        B=B2_funct(n,x_init,x_final)\n",
    "        lbs=bounds(n,self.lb)\n",
    "        ubs=bounds(n,self.ub)\n",
    "        return solve_qp(H, q, A=A, b=B, lb=lbs, ub=ubs)\n",
    "    \n",
    "    def new_action_speed(self, n, x_init, x_final):\n",
    "        \"\"\"\n",
    "        New action : \n",
    "        :param n: number of steps\n",
    "        :param x_init: initial position & speed\n",
    "        :param x_final: final position & speed\n",
    "        :return: [position, speed, acceleration]\n",
    "        \"\"\" \n",
    "        H=H_funct(n)\n",
    "        q=Q_funct(n,x_final[1])\n",
    "        A=A_funct(n,self.dt)\n",
    "        B=B_funct(n,x_init,x_final)\n",
    "        lbs=bounds(n,self.lb)\n",
    "        ubs=bounds(n,self.ub)\n",
    "        return solve_qp(H, q, A=A, b=B, lb=lbs, ub=ubs)"
   ]
  },
  {
   "cell_type": "code",
   "execution_count": 249,
   "id": "0073ad6d",
   "metadata": {},
   "outputs": [],
   "source": [
    "#4) Rollout on the environment:\n",
    "class Env_rollout:\n",
    "    \"\"\" \n",
    "        Class : iterate on the environment\n",
    "        :param env: our environment\n",
    "        :param max_steps: max steps per episode\n",
    "        :param dt: time step\n",
    "        :param cross: size crosswalk\n",
    "    \"\"\"\n",
    "    def __init__(self, env, max_steps, dt, cross):\n",
    "        self.env = env\n",
    "        self.max_steps = max_steps\n",
    "        self.dt = dt\n",
    "        self.cross = cross\n",
    "        self.prev_state = env.reset()\n",
    "\n",
    "    def iterations(self, model, nbr_episodes):\n",
    "        \"\"\"\n",
    "        Iterate on the environment.\n",
    "        :param model: current policy\n",
    "        :param nbr_episodes: episode number\n",
    "        :return: Tensors; state batch, action batch, reward batch\n",
    "        \"\"\"\n",
    "        batch_obs=[]\n",
    "        batch_acts=[]\n",
    "        batch_rews=[]\n",
    "        for ep in range(nbr_episodes):\n",
    "            prev_state = env.reset()\n",
    "            self.ds=prev_state[1]\n",
    "            self.ped_speed=prev_state[3]\n",
    "            for step_ep in range(self.max_steps):\n",
    "                car_parameters=[0., 0., 0.]\n",
    "                initial_state = prev_state[1:3][1::-1]\n",
    "                if(prev_state[2]>=0.): # if car already pass the crosswalk\n",
    "                    n=math.ceil((self.ds-prev_state[1])/(self.dt*2.0) +1)\n",
    "                    if(self.ds-prev_state[1]>0.):\n",
    "                        final_state = [prev_state[2]+n*self.ds*self.dt, self.ds]\n",
    "                        car_parameters = model.new_action_speed(n, initial_state, final_state)\n",
    "                        if(car_parameters is None):\n",
    "                            print(\"Pass _ Initial state: \"+str(initial_state))\n",
    "                            print(\"Pass _ Final state: \"+str(final_state))\n",
    "                            print(\"Pass _ N: \"+str(n))\n",
    "                            car_parameters=[0., 0., 0.] \n",
    "                        \n",
    "                elif(prev_state[3]<=0.1): # if pedestrian stops (not still cross)\n",
    "                    car_parameters=[0., 0., -4.]\n",
    "                    #n=30\n",
    "                    #final_state = [0., self.ds]\n",
    "                    #car_parameters = model.new_action_position(n, initial_state, final_state)\n",
    "                    #if(car_parameters is None):\n",
    "                    #        print(\"Stop _ Initial state: \"+str(initial_state))\n",
    "                    #        print(\"Stop _ Final state: \"+str(final_state))\n",
    "                    #        print(\"Stop _ N: \"+str(n))\n",
    "                    #        car_parameters=[0., 0., 0.] \n",
    "                    \n",
    "                else:\n",
    "                    n=int((self.cross-prev_state[4])/(self.dt*self.ped_speed))#,int((self.ds-prev_state[1])*self.dt/2.0)) #security factor\n",
    "                    if(n==2):\n",
    "                        print(model.new_action_position(n+1, initial_state, final_state))\n",
    "                    if(n>=1):\n",
    "                        final_state = [0., self.ds]\n",
    "                        car_parameters = model.new_action_position(n+1, initial_state, final_state)\n",
    "                        if(car_parameters is None):\n",
    "                            print(\"Wait _ Initial state: \"+str(initial_state))\n",
    "                            print(\"Wait _ Final state: \"+str(final_state))\n",
    "                            print(\"Wait _ N: \"+str(n))\n",
    "                            car_parameters=[0., 0., 0.]                  \n",
    "                state, reward, done, _ = self.env.step(car_parameters[2:3])\n",
    "                batch_obs.append(prev_state)\n",
    "                batch_acts.append(car_parameters[2])\n",
    "                batch_rews.append(reward)\n",
    "                prev_state = state\n",
    "                if done:\n",
    "                    break\n",
    "            avg_reward = np.mean(batch_rews[-10:])\n",
    "            print(\"Episode * {} * Avg Reward is ==> {} And Number of steps is ==> {}\".format(ep, avg_reward,ep))\n",
    "        return batch_obs, batch_acts, batch_rews"
   ]
  },
  {
   "cell_type": "code",
   "execution_count": 250,
   "id": "22ea5409",
   "metadata": {},
   "outputs": [],
   "source": [
    "#4) QP Algorithm:\n",
    "class Algo_QP():\n",
    "    \"\"\" \n",
    "    QP algorithm : testing\n",
    "    :param policy_class: policy\n",
    "    :param env: environment\n",
    "    :param hyperparameters: other hyperparameters\n",
    "    \"\"\"\n",
    "    def __init__(self, policy_class, env, **hyperparameters):\n",
    "        \n",
    "        self._init_hyperparameters(hyperparameters)\n",
    "        self.model = policy_class(self.dt, self.l_b, self.u_b)\n",
    "        self.rollout = Env_rollout(env, self.max_steps, self.dt, self.cross)\n",
    "    \n",
    "    def evaluate(self, nbr_episodes):\n",
    "        \"\"\"\n",
    "        Testing\n",
    "        :param nbr_episodes: episode number \n",
    "        :return: state batch, action batch, and reward batch\n",
    "        \"\"\"\n",
    "        state_batch, action_batch, rewards_batch = self.rollout.iterations(self.model, nbr_episodes)\n",
    "        return state_batch, action_batch, rewards_batch\n",
    "    \n",
    "    def _init_hyperparameters(self, hyperparameters):\n",
    "        \"\"\"\n",
    "        Initialize hyperparameters. \n",
    "        :param hyperparameters: hyperparameter list\n",
    "        \"\"\"\n",
    "        for param, val in hyperparameters.items():\n",
    "            exec('self.' + param + ' = ' + str(val))\n",
    "        self.num_algo = 1\n",
    "        self.max_steps = 90\n",
    "        self.total_loop = 0\n",
    "        self.dt = 0.3\n",
    "        self.cross = 5.0\n",
    "            "
   ]
  },
  {
   "cell_type": "code",
   "execution_count": 251,
   "id": "c08465ba",
   "metadata": {},
   "outputs": [],
   "source": [
    "#5) Computing part:\n",
    "# Import environment\n",
    "problem = \"Crossway_comparisonQP-v0\"\n",
    "u_b = [2.0, 11.0, -30.0, 1.1, -1.0]\n",
    "l_b = [-4.0, 9.0, -40.0, 0.9, -2.0]\n",
    "\n",
    "env = gym.make(problem,dt=0.3,Vm=2.5,tau=1.0,lower_bounds=l_b, upper_bounds=u_b,simulation=\"unif\")\n",
    "\n",
    "# Initialize the algorithm\n",
    "num_states = env.observation_space.shape[0]\n",
    "num_actions = env.action_space.shape[0]\n",
    "num_algo=1\n",
    "u_b2=[200.0,15.0,2.0]\n",
    "l_b2=[-45.0,0.0,-4.0]\n",
    "algo=Algo_QP(Model_QP, env, num_algo= num_algo, num_states=num_states, num_actions=num_actions,l_b=l_b2, u_b=u_b2)\n",
    "#algo.loading(1,1000)"
   ]
  },
  {
   "cell_type": "code",
   "execution_count": 253,
   "id": "42626da9",
   "metadata": {},
   "outputs": [
    {
     "name": "stdout",
     "output_type": "stream",
     "text": [
      "[-3.47678828  5.19464731  1.99999922 -1.82839412  5.79464708  2.\n",
      "  0.          6.39464708  0.        ]\n",
      "Wait _ Initial state: [-1.8283942  5.794647 ]\n",
      "Wait _ Final state: [0.0, 9.057536]\n",
      "Wait _ N: 1\n",
      "Accident!\n",
      "Episode * 0 * Avg Reward is ==> -32.1050765128641 And Number of steps is ==> 0\n"
     ]
    }
   ],
   "source": [
    "#Stock an evaluation sample\n",
    "states, actions, rewards = algo.evaluate(1)\n",
    "states=np.array(states)\n",
    "ep_action=states[:,0]\n",
    "ep_speed_car=states[:,1]\n",
    "ep_pos_car=states[:,2]\n",
    "ep_speed_ped=states[:,3]\n",
    "ep_pos_ped=states[:,4]\n",
    "ep_time=states[:,9]\n",
    "ep_reward=rewards\n",
    "t=0"
   ]
  },
  {
   "cell_type": "code",
   "execution_count": 254,
   "id": "aeeea182",
   "metadata": {},
   "outputs": [
    {
     "data": {
      "image/png": "[encoded data removed]",
      "text/plain": [
       "<Figure size 432x288 with 1 Axes>"
      ]
     },
     "metadata": {
      "needs_background": "light"
     },
     "output_type": "display_data"
    }
   ],
   "source": [
    "#Positions des agents\n",
    "t=0\n",
    "plt.title(\"Vehicle and Pedestrian Positions versus time\")\n",
    "plt.xlabel(\"time (s)\")\n",
    "plt.ylabel(\"position (m)\")\n",
    "j=0\n",
    "while t+1<len(ep_time):\n",
    "    t_init=t\n",
    "    while t+1<len(ep_time) and ep_time[t]<ep_time[t+1]:\n",
    "        t+=1\n",
    "    plt.plot(ep_time[t_init:t],ep_pos_car[t_init:t], label=\"car\"+str(j))\n",
    "    plt.plot(ep_time[t_init:t],ep_pos_ped[t_init:t])\n",
    "    plt.axhline(y=5, color='r', linestyle='-.')\n",
    "    plt.axhline(y=0, color='r', linestyle='-.')\n",
    "    t+=1\n",
    "    j+=1\n",
    "_=plt.axhline(y=5, color='r', linestyle='-.')\n",
    "_=plt.axhline(y=0, color='r', linestyle='-.')\n",
    "_=plt.legend()"
   ]
  },
  {
   "cell_type": "code",
   "execution_count": 255,
   "id": "d6237251",
   "metadata": {},
   "outputs": [
    {
     "data": {
      "image/png": "[encoded data removed]",
      "text/plain": [
       "<Figure size 1296x288 with 4 Axes>"
      ]
     },
     "metadata": {
      "needs_background": "light"
     },
     "output_type": "display_data"
    }
   ],
   "source": [
    "#Accélération, Reward, Vitesse de la voiture\n",
    "fig, (ax1, ax2, ax3, ax4) = plt.subplots(1, 4,figsize=(18, 4))\n",
    "\n",
    "t=0\n",
    "ax1.set_title(\"Car Acceleration versus time per episode\")\n",
    "ax1.set_xlabel(\"time (s)\")\n",
    "ax1.set_ylabel(\"acceleration (m/s2)\")\n",
    "\n",
    "ax2.set_title(\"Reward versus time per episode\")\n",
    "ax2.set_xlabel(\"time (s)\")\n",
    "ax2.set_ylabel(\"reward\")\n",
    "\n",
    "ax3.set_title(\"Car Speed versus time per episode\")\n",
    "ax3.set_xlabel(\"time (s)\")\n",
    "ax3.set_ylabel(\"speed (m/s)\")\n",
    "\n",
    "ax4.set_title('Pedestrian Speed')\n",
    "ax4.set_xlabel(\"Position (m)\")\n",
    "ax4.set_ylabel(\"Speed (m/s)\")\n",
    "while t+1<len(ep_time):\n",
    "    t_init=t\n",
    "    while t+1<len(ep_time) and ep_time[t]<ep_time[t+1]:\n",
    "        t+=1\n",
    "    ax1.plot(ep_time[t_init:t],ep_action[t_init:t])\n",
    "    ax2.plot(ep_time[t_init:t],ep_reward[t_init:t])\n",
    "    ax3.plot(ep_time[t_init:t],ep_speed_car[t_init:t])\n",
    "    ax4.plot(states[t_init:t,4],states[t_init:t,3])\n",
    "    t+=1\n"
   ]
  },
  {
   "cell_type": "code",
   "execution_count": null,
   "id": "8bdfd0b0",
   "metadata": {},
   "outputs": [],
   "source": []
  },
  {
   "cell_type": "code",
   "execution_count": 239,
   "id": "5f420608",
   "metadata": {},
   "outputs": [],
   "source": [
    "time_size=6.0 #time before pedestrian finish the crossing\n",
    "dt=0.3\n",
    "#n=int(time_size/dt)\n",
    "n=1\n",
    "H=H_funct(n)\n",
    "q=Q_funct(n,10.0)\n",
    "A=A2_funct(n,0.3)#[-1.6714962  5.2716537] et [0, 10.377088]\n",
    "B=B2_funct(n,[-3.307379, 4.912298],[0., 10.377088])\n",
    "lb=bounds(n,[-40.0,-8.0,-4.0])\n",
    "ub=bounds(n,[200.0,15.0,2.0])\n",
    "x = solve_qp(H, q, A=A, b=B, lb=lb, ub=ub)\n",
    "#x"
   ]
  },
  {
   "cell_type": "code",
   "execution_count": 240,
   "id": "371a716c",
   "metadata": {},
   "outputs": [
    {
     "data": {
      "text/plain": [
       "array([[0., 0., 0.],\n",
       "       [0., 0., 0.],\n",
       "       [1., 0., 0.]])"
      ]
     },
     "execution_count": 240,
     "metadata": {},
     "output_type": "execute_result"
    }
   ],
   "source": [
    "A"
   ]
  },
  {
   "cell_type": "code",
   "execution_count": 137,
   "id": "71239c0c",
   "metadata": {},
   "outputs": [
    {
     "data": {
      "text/plain": [
       "63"
      ]
     },
     "execution_count": 137,
     "metadata": {},
     "output_type": "execute_result"
    }
   ],
   "source": [
    "x=np.array([-3.22473259e+01,  1.03770876e+01, -4.00000000e+00, -2.93141996e+01,\n",
    "  9.17708759e+00, -4.00000000e+00, -2.67410733e+01,  7.97708759e+00,\n",
    " -4.00000000e+00, -2.45279471e+01,  6.77708759e+00, -4.00000000e+00,\n",
    " -2.26748208e+01,  5.57708759e+00, -2.20235380e+00, -2.11008004e+01,\n",
    "  4.91638145e+00, -3.85619097e-01, -1.96432389e+01,  4.80069572e+00,\n",
    " -2.05974501e-01, -1.82122990e+01,  4.73890337e+00, -1.76601209e-01,\n",
    " -1.67985750e+01,  4.68592301e+00, -1.61149466e-01, -1.54000499e+01,\n",
    "  4.63757817e+00, -1.47104797e-01, -1.40153961e+01,  4.59344673e+00,\n",
    " -1.33308237e-01, -1.26433610e+01,  4.55345426e+00, -1.19641737e-01,\n",
    " -1.12827086e+01,  4.51756174e+00, -1.06077744e-01, -9.93221355e+00,\n",
    "  4.48573842e+00, -9.25419523e-02, -8.59065641e+00,  4.45797583e+00,\n",
    " -7.83545834e-02, -7.25678962e+00,  4.43446946e+00, -5.62233940e-02,\n",
    " -5.92897883e+00,  4.41760244e+00,  5.32568295e-02, -4.60130154e+00,\n",
    "  4.43357949e+00,  1.11591114e+00, -3.22101170e+00,  4.76835283e+00,\n",
    "  2.00000000e+00, -1.70050585e+00,  5.36835283e+00,  2.00000000e+00,\n",
    " -2.82795383e-15,  5.96835283e+00,  0.00000000e+00])\n",
    "len(x)"
   ]
  },
  {
   "cell_type": "code",
   "execution_count": 173,
   "id": "88c8f9d2",
   "metadata": {},
   "outputs": [
    {
     "data": {
      "text/plain": [
       "[<matplotlib.lines.Line2D at 0x1bd2fe33fc8>]"
      ]
     },
     "execution_count": 173,
     "metadata": {},
     "output_type": "execute_result"
    },
    {
     "data": {
      "image/png": "[encoded data removed]",
      "text/plain": [
       "<Figure size 432x288 with 1 Axes>"
      ]
     },
     "metadata": {
      "needs_background": "light"
     },
     "output_type": "display_data"
    }
   ],
   "source": [
    "xv=x.reshape((-1,3))\n",
    "plt.plot([i for i in range(21)],xv[:,1])"
   ]
  }
 ],
 "metadata": {
  "kernelspec": {
   "display_name": "Python 3 (ipykernel)",
   "language": "python",
   "name": "python3"
  },
  "language_info": {
   "codemirror_mode": {
    "name": "ipython",
    "version": 3
   },
   "file_extension": ".py",
   "mimetype": "text/x-python",
   "name": "python",
   "nbconvert_exporter": "python",
   "pygments_lexer": "ipython3",
   "version": "3.7.11"
  }
 },
 "nbformat": 4,
 "nbformat_minor": 5
}
